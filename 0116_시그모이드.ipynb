{
  "nbformat": 4,
  "nbformat_minor": 0,
  "metadata": {
    "colab": {
      "provenance": [],
      "toc_visible": true,
      "authorship_tag": "ABX9TyMZ8yPQc2XocMtitkR+/U8A",
      "include_colab_link": true
    },
    "kernelspec": {
      "name": "python3",
      "display_name": "Python 3"
    },
    "language_info": {
      "name": "python"
    }
  },
  "cells": [
    {
      "cell_type": "markdown",
      "metadata": {
        "id": "view-in-github",
        "colab_type": "text"
      },
      "source": [
        "<a href=\"https://colab.research.google.com/github/ezypzylemon/12month/blob/main/0116_%EC%8B%9C%EA%B7%B8%EB%AA%A8%EC%9D%B4%EB%93%9C.ipynb\" target=\"_parent\"><img src=\"https://colab.research.google.com/assets/colab-badge.svg\" alt=\"Open In Colab\"/></a>"
      ]
    },
    {
      "cell_type": "code",
      "execution_count": 1,
      "metadata": {
        "id": "nilbhutq0bOj"
      },
      "outputs": [],
      "source": [
        "import numpy as np\n",
        "\n",
        "# 시그모이드 함수와 그 도함수\n",
        "def sigmoid(x):\n",
        "    return 1 / (1 + np.exp(-x))\n",
        "\n",
        "def sigmoid_derivative(x):\n",
        "    return x * (1 - x)\n",
        "\n",
        "# 입력 데이터 (4개의 특성을 가진 4개의 샘플)\n",
        "X = np.array([\n",
        "    [0, 0, 0, 1],\n",
        "    [0, 0, 1, 1],\n",
        "    [0, 1, 0, 1],\n",
        "    [0, 1, 1, 1]\n",
        "])\n",
        "\n",
        "# 실제값 (AND  문제의 예시)\n",
        "Y = np.array([[0], [0], [0], [1]])\n"
      ]
    },
    {
      "cell_type": "code",
      "source": [
        "# 가중치 초기화 (랜덤값으로 설정)\n",
        "import numpy as np\n",
        "np.random.seed(1)\n",
        "\n",
        "w1 = np.random.randn(4, 3)  # 입력 -> 은닉층 가중치 (4 -> 3)------------> (input_shape=(4,), activation='relu')\n",
        "\n",
        "b1 = np.random.randn(1, 3)  # 은닉층 바이어스\n",
        "\n",
        "w2 = np.random.randn(3, 1)  # 은닉층 -> 출력층 가중치 (3 -> 1)\n",
        "b2 = np.random.randn(1)     # 출력층 바이어스\n",
        "\n",
        "print(w1, b1)\n"
      ],
      "metadata": {
        "colab": {
          "base_uri": "https://localhost:8080/"
        },
        "id": "Un_xanC-29SO",
        "outputId": "70788f2f-adf4-4f80-83a9-5cca16ebeaed"
      },
      "execution_count": 3,
      "outputs": [
        {
          "output_type": "stream",
          "name": "stdout",
          "text": [
            "[[ 1.62434536 -0.61175641 -0.52817175]\n",
            " [-1.07296862  0.86540763 -2.3015387 ]\n",
            " [ 1.74481176 -0.7612069   0.3190391 ]\n",
            " [-0.24937038  1.46210794 -2.06014071]] [[-0.3224172  -0.38405435  1.13376944]]\n"
          ]
        }
      ]
    },
    {
      "cell_type": "code",
      "source": [
        "# 학습률 , 1000, 100, 10, 1, 0.1, 0.01, 0.001 이런식으로 가는것을 추천 잘 맞추면 오차의 갱신률을 완만하게 잘 못 맞추면 급하게\n",
        "learning_rate = 0.1"
      ],
      "metadata": {
        "id": "zBZBJbnS3KBT"
      },
      "execution_count": 4,
      "outputs": []
    },
    {
      "cell_type": "code",
      "source": [
        "z1 = np.dot(X, w1) + b1 # 은닉층 입력       #np.dot -> 내적곱임\n",
        "h = sigmoid(z1) # 은닉층 출력 (활성화함수 적용)\n",
        "\n",
        "print(z1)"
      ],
      "metadata": {
        "colab": {
          "base_uri": "https://localhost:8080/"
        },
        "id": "LOWIYQlH5R1a",
        "outputId": "803e8e0d-9b21-433f-b0d0-6b5efaa8779f"
      },
      "execution_count": 5,
      "outputs": [
        {
          "output_type": "stream",
          "name": "stdout",
          "text": [
            "[[-0.57178758  1.07805358 -0.92637127]\n",
            " [ 1.17302418  0.31684668 -0.60733217]\n",
            " [-1.6447562   1.94346121 -3.22790996]\n",
            " [ 0.10005556  1.18225431 -2.90887087]]\n"
          ]
        }
      ]
    },
    {
      "cell_type": "code",
      "source": [
        "    z2 = np.dot(h, w2) + b2 # 출력층 입력\n",
        "    y_pred = sigmoid(z2) # 출력층 예측값 (활성화함수 적용)\n",
        "    y_pred"
      ],
      "metadata": {
        "colab": {
          "base_uri": "https://localhost:8080/"
        },
        "id": "1VCCYlVA55LK",
        "outputId": "a3dcf602-2c5f-4f73-82b9-37e76a4594d7"
      },
      "execution_count": 8,
      "outputs": [
        {
          "output_type": "execute_result",
          "data": {
            "text/plain": [
              "array([[0.32468547],\n",
              "       [0.23021184],\n",
              "       [0.42065878],\n",
              "       [0.32902681]])"
            ]
          },
          "metadata": {},
          "execution_count": 8
        }
      ]
    },
    {
      "cell_type": "code",
      "source": [
        "#손실함수 (Mean Squared Error)\n",
        "loss = np.mean((y_pred - Y) ** 2)\n",
        "loss"
      ],
      "metadata": {
        "colab": {
          "base_uri": "https://localhost:8080/"
        },
        "id": "ylB4cQMD7CCS",
        "outputId": "05fdd5ad-37c5-4f6e-9ac6-2e73f91933c3"
      },
      "execution_count": 10,
      "outputs": [
        {
          "output_type": "execute_result",
          "data": {
            "text/plain": [
              "0.19639424464896765"
            ]
          },
          "metadata": {},
          "execution_count": 10
        }
      ]
    },
    {
      "cell_type": "code",
      "source": [
        "y.size\n"
      ],
      "metadata": {
        "colab": {
          "base_uri": "https://localhost:8080/"
        },
        "id": "wB_iDwBm7P_i",
        "outputId": "44661d22-055c-4995-c5e5-22d006549d60"
      },
      "execution_count": 11,
      "outputs": [
        {
          "output_type": "execute_result",
          "data": {
            "text/plain": [
              "4"
            ]
          },
          "metadata": {},
          "execution_count": 11
        }
      ]
    },
    {
      "cell_type": "code",
      "source": [
        "# 역전파 (Backpropagation)\n",
        "# 출력층에서의 기울기\n",
        "d_loss_d_y_pred = -2 * (y_pred - y) / y.size  # 손실 함수의 출력에 대한 기울기\n",
        "d_y_pred_d_z2 = sigmoid_derivative(y_pred)   # 시그모이드 함수의 도함수\n",
        "d_z2_d_w2 = h                                # z2를 w2에 대한 미분한 값 (h)\n"
      ],
      "metadata": {
        "id": "J-uLriAu7nKe"
      },
      "execution_count": 12,
      "outputs": []
    }
  ]
}