{
 "cells": [
  {
   "cell_type": "code",
   "execution_count": 1,
   "metadata": {},
   "outputs": [
    {
     "name": "stdout",
     "output_type": "stream",
     "text": [
      "예측된 판매가: 764228.640846139\n"
     ]
    }
   ],
   "source": [
    "import pickle\n",
    "import numpy as np\n",
    "\n",
    "# 저장된 모델 불러오기\n",
    "with open('models/naver_shopping_tv_price_regression_model/model.pkl', 'rb') as f:\n",
    "    loaded_model = pickle.load(f)\n",
    "\n",
    "# 새로운 데이터 예측\n",
    "x_new = np.array([[55, 0, 2160, 1, 0, 1, 0, 0, 3, 1]])  # 새로운 입력값\n",
    "y_pred = loaded_model.predict(x_new)\n",
    "\n",
    "print(\"예측된 판매가:\", y_pred[0])"
   ]
  },
  {
   "cell_type": "code",
   "execution_count": 2,
   "metadata": {},
   "outputs": [
    {
     "name": "stdout",
     "output_type": "stream",
     "text": [
      "파일의 절대 경로: c:\\Users\\Admin\\Desktop\\SJ_KP\\pypy\\cursor\\1216\\models\\naver_shopping_tv_price_regression_model\\model.pkl\n",
      "파일이 존재합니다!\n"
     ]
    }
   ],
   "source": [
    "import os\n",
    "\n",
    "# 상대 경로에서 절대 경로 확인\n",
    "file_path = 'models/naver_shopping_tv_price_regression_model/model.pkl'\n",
    "absolute_path = os.path.abspath(file_path)\n",
    "\n",
    "print(\"파일의 절대 경로:\", absolute_path)\n",
    "\n",
    "# 파일 존재 여부 확인\n",
    "if os.path.exists(absolute_path):\n",
    "    print(\"파일이 존재합니다!\")\n",
    "else:\n",
    "    print(\"파일이 존재하지 않습니다. 경로를 확인하세요.\")"
   ]
  }
 ],
 "metadata": {
  "kernelspec": {
   "display_name": "kpmg",
   "language": "python",
   "name": "python3"
  },
  "language_info": {
   "codemirror_mode": {
    "name": "ipython",
    "version": 3
   },
   "file_extension": ".py",
   "mimetype": "text/x-python",
   "name": "python",
   "nbconvert_exporter": "python",
   "pygments_lexer": "ipython3",
   "version": "3.10.15"
  }
 },
 "nbformat": 4,
 "nbformat_minor": 2
}
