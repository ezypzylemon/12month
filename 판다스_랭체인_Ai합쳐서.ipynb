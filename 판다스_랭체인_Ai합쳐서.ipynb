{
 "cells": [
  {
   "cell_type": "code",
   "execution_count": 150,
   "metadata": {},
   "outputs": [],
   "source": [
    "import matplotlib.pyplot as plt\n",
    "plt.rcParams['font.family'] ='Malgun Gothic'\n",
    "plt.rcParams['axes.unicode_minus'] =False\n"
   ]
  },
  {
   "cell_type": "code",
   "execution_count": null,
   "metadata": {},
   "outputs": [],
   "source": [
    "!pip install -U langchain-openai"
   ]
  },
  {
   "cell_type": "code",
   "execution_count": null,
   "metadata": {},
   "outputs": [],
   "source": [
    "import pandas as pd\n",
    "import numpy as np\n",
    "import seaborn as sns\n",
    "import matplotlib.pyplot as plt\n",
    "from scipy.stats import skew, kurtosis\n",
    "from langchain_openai import ChatOpenAI\n",
    "from langchain.prompts import PromptTemplate\n",
    "from langchain.chains import LLMChain\n",
    "from dotenv import load_dotenv\n",
    "import os\n",
    "\n",
    "openai_api_key = 'api키 넣기'\n",
    "os.environ['OPENAI_API_KEY'] = openai_api_key\n",
    "\n",
    "\n",
    "# 환경변수 로드(이부분은 별도로 환경변수 작업하)\n",
    "# # \n",
    "# load_dotenv()\n",
    "# api_key = os.getenv(\"OPENAI_API_KEY\")\n",
    "# if not api_key:\n",
    "#     raise EnvironmentError(\"OPENAI_API_KEY가 설정되지 않았습니다.\")\n",
    "\n"
   ]
  },
  {
   "cell_type": "markdown",
   "metadata": {},
   "source": [
    "## Part1. 데이터 불러오기\n",
    "- 데이터로드\n",
    "- 데이터 정보를 이용하여서 gpt에게 데이터 분석에 필요한 작업지시서와, 분석 인사이트를 얻고자함"
   ]
  },
  {
   "cell_type": "code",
   "execution_count": null,
   "metadata": {},
   "outputs": [
    {
     "name": "stdout",
     "output_type": "stream",
     "text": [
      "데이터 로드 완료\n",
      "데이터 크기: (5552, 23)\n"
     ]
    },
    {
     "data": {
      "text/html": [
       "<div>\n",
       "<style scoped>\n",
       "    .dataframe tbody tr th:only-of-type {\n",
       "        vertical-align: middle;\n",
       "    }\n",
       "\n",
       "    .dataframe tbody tr th {\n",
       "        vertical-align: top;\n",
       "    }\n",
       "\n",
       "    .dataframe thead th {\n",
       "        text-align: right;\n",
       "    }\n",
       "</style>\n",
       "<table border=\"1\" class=\"dataframe\">\n",
       "  <thead>\n",
       "    <tr style=\"text-align: right;\">\n",
       "      <th></th>\n",
       "      <th>번호</th>\n",
       "      <th>분류</th>\n",
       "      <th>자치구</th>\n",
       "      <th>공연_행사명</th>\n",
       "      <th>날짜_시간</th>\n",
       "      <th>장소</th>\n",
       "      <th>기관명</th>\n",
       "      <th>이용대상</th>\n",
       "      <th>이용요금</th>\n",
       "      <th>출연자정보</th>\n",
       "      <th>...</th>\n",
       "      <th>대표이미지</th>\n",
       "      <th>신청일</th>\n",
       "      <th>시민_기관</th>\n",
       "      <th>시작일</th>\n",
       "      <th>종료일</th>\n",
       "      <th>테마분류</th>\n",
       "      <th>경도_X좌표_</th>\n",
       "      <th>위도_Y좌표_</th>\n",
       "      <th>유무료</th>\n",
       "      <th>문화포털상세URL</th>\n",
       "    </tr>\n",
       "  </thead>\n",
       "  <tbody>\n",
       "    <tr>\n",
       "      <th>0</th>\n",
       "      <td>1</td>\n",
       "      <td>전시/미술</td>\n",
       "      <td>강남구</td>\n",
       "      <td>K-일러스트레이션페어 서울 2025</td>\n",
       "      <td>2025-02-06~2025-02-09</td>\n",
       "      <td>서울 삼성동 코엑스 3층 D홀</td>\n",
       "      <td>기타</td>\n",
       "      <td>누구나</td>\n",
       "      <td>사전 예매가 : ~ 2025년 1월 31일(금)까지 결제 시 8,000원ㅣ현장 구매...</td>\n",
       "      <td>NaN</td>\n",
       "      <td>...</td>\n",
       "      <td>https://culture.seoul.go.kr/cmmn/file/getImage...</td>\n",
       "      <td>2024-11-22</td>\n",
       "      <td>기관</td>\n",
       "      <td>00:00.0</td>\n",
       "      <td>00:00.0</td>\n",
       "      <td>기타</td>\n",
       "      <td>127.059159</td>\n",
       "      <td>37.511824</td>\n",
       "      <td>유료</td>\n",
       "      <td>https://culture.seoul.go.kr/culture/culture/cu...</td>\n",
       "    </tr>\n",
       "  </tbody>\n",
       "</table>\n",
       "<p>1 rows × 23 columns</p>\n",
       "</div>"
      ],
      "text/plain": [
       "   번호     분류  자치구               공연_행사명                  날짜_시간  \\\n",
       "0   1  전시/미술  강남구  K-일러스트레이션페어 서울 2025  2025-02-06~2025-02-09   \n",
       "\n",
       "                 장소 기관명 이용대상  \\\n",
       "0  서울 삼성동 코엑스 3층 D홀  기타  누구나   \n",
       "\n",
       "                                                이용요금 출연자정보  ...  \\\n",
       "0  사전 예매가 : ~ 2025년 1월 31일(금)까지 결제 시 8,000원ㅣ현장 구매...   NaN  ...   \n",
       "\n",
       "                                               대표이미지         신청일 시민_기관  \\\n",
       "0  https://culture.seoul.go.kr/cmmn/file/getImage...  2024-11-22    기관   \n",
       "\n",
       "       시작일      종료일 테마분류     경도_X좌표_    위도_Y좌표_ 유무료  \\\n",
       "0  00:00.0  00:00.0   기타  127.059159  37.511824  유료   \n",
       "\n",
       "                                           문화포털상세URL  \n",
       "0  https://culture.seoul.go.kr/culture/culture/cu...  \n",
       "\n",
       "[1 rows x 23 columns]"
      ]
     },
     "metadata": {},
     "output_type": "display_data"
    }
   ],
   "source": [
    "\n",
    "\n",
    "\n",
    "try:\n",
    "    # 현재 파일 경로 가져오기 (Jupyter Notebook 환경에서는 __file__을 사용할 수 없음)\n",
    "    current_dir = r'C:\\Users\\Admin\\Desktop\\study_kpmg\\data'\n",
    "    \n",
    "    # 엑셀 파일 경로 설정\n",
    "    excel_path = os.path.join(current_dir, '서울시 문화행사 정보.csv')\n",
    "    \n",
    "    # 엑셀 파일 읽어오기\n",
    "    df = pd.read_csv(excel_path, engine='python')  # openpyxl 엔진 지정\n",
    "    print(\"데이터 로드 완료\") \n",
    "    print(f\"데이터 크기: {df.shape}\")\n",
    "    \n",
    "    # 데이터 확인\n",
    "    display(df.head(1))\n",
    "    \n",
    "except FileNotFoundError:\n",
    "    print(\"파일을 찾을 수 없습니다. 파일 경로를 확인해주세요.\")\n",
    "except Exception as e:\n",
    "    print(f\"오류가 발생했습니다: {str(e)}\")\n"
   ]
  },
  {
   "cell_type": "code",
   "execution_count": 22,
   "metadata": {},
   "outputs": [
    {
     "name": "stdout",
     "output_type": "stream",
     "text": [
      "-->\n",
      " 1. 각 자치구별로 문화행사의 개최 횟수를 분석하여 문화 행사 활성화 정도를 파악할 수 있습니다. 이를 통해 어떤 자치구에서 문화 행사가 활발히 이루어지고 있는지를 알 수 있습니다.\n",
      "\n",
      "2. 각 자치구별로 유료와 무료 문화행사의 비율을 분석하여 해당 지역의 문화 행사 참여 형태를 이해할 수 있습니다. 이를 통해 자치구별 문화 소비 성향을 파악할 수 있습니다.\n",
      "\n",
      "3. 각 자치구별로 문화 행사의 참여 대상을 분석하여 어떤 연령층이 주로 문화 행사에 참여하는지를 파악할 수 있습니다. 이를 통해 해당 자치구의 문화 행사 대상 층을 고려한 행사 기획이 가능합니다.\n",
      "\n",
      "4. 날짜별로 문화 행사의 개최 횟수를 분석하여 행사 시기에 대한 인사이트를 도출할 수 있습니다. 특정 시기에 문화 행사가 집중적으로 열리는 경향을 파악할 수 있습니다.\n",
      "\n",
      "5. 기관명을 통해 문화 행사를 주관하는 주체를 파악하여 해당 기관의 활동 범위와 특성을 이해할 수 있습니다. 이를 통해 향후 협력 가능성을 모색할 수 있습니다.\n",
      "\n",
      "위의 분석을 통해 2024년도 서울시 문화행사 보고서에 필요한 데이터를 결합하여 구체적인 분석 결과와 인사이트를 제시할 수 있습니다.\n"
     ]
    }
   ],
   "source": [
    "# LangChain 설정\n",
    "llm = ChatOpenAI(temperature=0.7)\n",
    "prompt = PromptTemplate(\n",
    "    input_variables=[\"data_summary\"],\n",
    "    template=\"\"\"\\\n",
    "    데이터 요약:\n",
    "    {data_summary}\n",
    "\n",
    "    위 데이터를 기반으로 중요한 인사이트를 도출하고, 2024년도서울시문화행사 보고서에 필요한 데이터 결합, 생성, 분석에 대한 작업을 제시해줘\n",
    "    \"\"\"\n",
    ")\n",
    "chain = LLMChain(llm=llm, prompt=prompt)\n",
    "myPrompt=df\n",
    "langchain_response = chain.run(data_summary=myPrompt)\n",
    "print('-->\\n',langchain_response)"
   ]
  },
  {
   "cell_type": "code",
   "execution_count": 28,
   "metadata": {},
   "outputs": [
    {
     "name": "stdout",
     "output_type": "stream",
     "text": [
      "-->\n",
      " 1. 자치구별로 공연/행사 개최 횟수를 카운트하여 시각화\n",
      "2. 공연/행사명에서 특정 키워드(예: 뮤지컬)가 포함된 행사만 필터링\n",
      "3. 날짜_시간 컬럼을 활용하여 월별로 공연/행사 개최 횟수를 카운트하여 시각화\n",
      "4. 이용대상별로 공연/행사 개최 횟수를 카운트하여 시각화\n",
      "5. 이용요금 정보를 바탕으로 무료와 유료 공연/행사의 비율을 계산\n",
      "6. 장소별로 공연/행사 개최 횟수를 카운트하여 시각화\n",
      "7. 공연/행사의 테마분류별로 개최 횟수를 카운트하여 시각화\n",
      "8. 경도_X좌표, 위도_Y좌표를 활용하여 지도상에 공연/행사 위치를 표시\n",
      "9. 시작일과 종료일을 활용하여 공연/행사 기간을 계산하여 평균 공연 기간을 구함\n",
      "10. 문화포털상세URL을 활용하여 각 공연/행사의 상세 정보 링크를 제공\n"
     ]
    }
   ],
   "source": [
    "# LangChain 설정\n",
    "llm = ChatOpenAI(temperature=0.7)\n",
    "prompt = PromptTemplate(\n",
    "    input_variables=[\"data_summary\"],\n",
    "    template=\"\"\"\\\n",
    "    데이터 요약:\n",
    "    {data_summary}\n",
    "\n",
    "    위 데이터는 공간복잡도를 계산하여 혼잡도 분산을 위해 사용하는 기초데이터이다.\n",
    "    혼잡도 분석에 필요한 2024년도서울시문화행사.csv 데이터에서 데이터 결합, 생성, 분석에 대한 작업을 최소 10개는 제시해줘\n",
    "    파이썬 코드없이, \n",
    "    \"\"\"\n",
    ")\n",
    "chain = LLMChain(llm=llm, prompt=prompt)\n",
    "myPrompt=df\n",
    "langchain_response = chain.run(data_summary=myPrompt)\n",
    "print('-->\\n',langchain_response)"
   ]
  },
  {
   "cell_type": "code",
   "execution_count": 46,
   "metadata": {},
   "outputs": [
    {
     "data": {
      "text/plain": [
       "\"\\n1. 자치구별로 공연_행사명의 개수를 계산한다.\\n2. 자치구별로 유무료 공연의 비율을 계산한다.\\n3. 공연_행사명에 '클래식'이 포함된 행사의 개수를 계산한다.\\n4. 날짜_시간을 기준으로 2024년에 개최된 공연의 개수를 계산한다.\\n5. 이용대상이 '누구나'인 공연의 개수를 계산한다.\\n6. 이용요금이 NaN인 공연의 개수를 계산한다.\\n7. 이용요금이 있는 공연 중 가장 높은 요금을 확인한다.\\n8. 기관명이 '기관'인 공연의 개수를 계산한다.\\n9. 출연자정보가 NaN인 공연의 개수를 계산한다.\\n10. 테마분류가 NaN인 공연의 개수를 계산한다.\\n1. 자치구별로 공연/행사 개수를 집계하여 분포를 확인한다.\\n2. 공연/행사명의 문자열 길이를 계산하여 평균값, 최대값, 최소값을 확인한다.\\n3. 날짜_시간을 기준으로 연도별 공연/행사 개수를 시계열 그래프로 시각화한다.\\n4. 이용대상별로 공연/행사 개수를 집계하여 분포를 확인한다.\\n5. 이용요금의 결측치를 처리하고, 유료와 무료의 비율을 확인한다.\\n6. 공연/행사명에 특정 단어가 포함된 행을 필터링하여 확인한다.\\n7. 장소별로 공연/행사 개수를 집계하여 분포를 확인한다.\\n8. 시작일과 종료일을 활용하여 공연/행사 기간을 계산하고, 평균값을 확인한다.\\n9. 이용대상과 이용요금을 결합하여 성인 대상의 평균 이용요금을 계산한다.\\n10. 경도_X좌표와 위도_Y좌표를 이용하여 지도에 공연/행사 위치를 표시한다.\\n1. 자치구별로 공연/행사 개최 횟수를 계산\\n2. 자치구별로 유료/무료 행사 개최 비율을 계산\\n3. 자치구별로 평균 이용료를 계산\\n4. 공연/행사 분류별로 개최 횟수를 계산\\n5. 요일별로 공연/행사 개최 횟수를 계산\\n6. 월별로 공연/행사 개최 횟수를 계산\\n7. 공연/행사 장소별로 개최 횟수를 계산\\n8. 공연/행사 시작 시간대별로 개최 횟수를 계산\\n9. 공연/행사 종료 시간대별로 개최 횟수를 계산\\n10. 공연/행사 기관명별로 개최 횟수를 계산\\n1. 각 자치구별로 진행된 공연/행사의 개수를 세어본다.\\n2. 각 자치구별로 유료와 무료 공연/행사의 비율을 계산한다.\\n3. 날짜_시간 열을 기준으로 2024년에 가장 많은 공연/행사가 진행된 날짜를 찾는다.\\n4. 공연/행사명에 '클래식'이 포함된 항목들을 찾아본다.\\n5. 이용대상이 '누구나'인 공연/행사 중에서 가장 높은 이용요금을 가진 항목을 찾는다.\\n6. 이용요금이 NaN인 항목들을 찾아서 처리한다.\\n7. 시작일과 종료일을 활용하여 공연/행사의 기간을 계산한다.\\n8. 장소를 기준으로 공연/행사가 진행된 장소의 개수를 세어본다.\\n9. 분류별로 공연/행사의 개수를 계산한다.\\n10. 공연/행사의 대표이미지를 시각화하여 확인한다.\\n1. 자치구별로 공연/행사 개최 횟수를 계산한다.\\n2. 날짜_시간 데이터를 기반으로 요일 정보를 추출하여 요일별 공연/행사 개최 횟수를 계산한다.\\n3. 이용대상별로 공연/행사 개최 횟수를 계산한다.\\n4. 이용요금 정보를 기반으로 무료와 유료 공연/행사 개최 횟수를 계산한다.\\n5. 분류별로 공연/행사 개최 횟수를 계산한다.\\n6. 장소별로 공연/행사 개최 횟수를 계산한다.\\n7. 시작일과 종료일을 기반으로 공연/행사 기간을 계산한다.\\n8. 테마분류별로 공연/행사 개최 횟수를 계산한다.\\n9. 자치구별로 유무료 공연/행사 개최 횟수를 계산한다.\\n10. 기관명별로 공연/행사 개최 횟수를 계산한다.\""
      ]
     },
     "execution_count": 46,
     "metadata": {},
     "output_type": "execute_result"
    }
   ],
   "source": [
    "# LangChain 설정\n",
    "result=''\n",
    "for x in range(5):\n",
    "    # print('-'*100)\n",
    "    llm = ChatOpenAI(temperature=0.7)\n",
    "    prompt = PromptTemplate(\n",
    "        input_variables=[\"data_summary\"],\n",
    "        template=\"\"\"\\\n",
    "        데이터 요약:\n",
    "        {data_summary}\n",
    "        {data_prompt}\n",
    "        \"\"\"\n",
    "    )\n",
    "    chain = LLMChain(llm=llm, prompt=prompt)\n",
    "    input_prompt='''위 데이터는 공간복잡도를 계산하여 혼잡도 분산을 위해 사용하는 기초데이터이다.\n",
    "                    혼잡도 분석에 필요한 2024년도서울시문화행사.csv 데이터에서 데이터 결합, 생성, 분석에 대한 작업을 최소 10개는 제시해줘\n",
    "                    파이썬 코드없이'''\n",
    "    myPrompt=df\n",
    "    langchain_response = chain.run(data_summary=myPrompt, data_prompt=input_prompt)\n",
    "    result+='\\n'+langchain_response\n",
    "result"
   ]
  },
  {
   "cell_type": "code",
   "execution_count": 47,
   "metadata": {},
   "outputs": [
    {
     "data": {
      "text/plain": [
       "['',\n",
       " '1. 자치구별로 공연_행사명의 개수를 계산한다.',\n",
       " '2. 자치구별로 유무료 공연의 비율을 계산한다.',\n",
       " \"3. 공연_행사명에 '클래식'이 포함된 행사의 개수를 계산한다.\",\n",
       " '4. 날짜_시간을 기준으로 2024년에 개최된 공연의 개수를 계산한다.',\n",
       " \"5. 이용대상이 '누구나'인 공연의 개수를 계산한다.\",\n",
       " '6. 이용요금이 NaN인 공연의 개수를 계산한다.',\n",
       " '7. 이용요금이 있는 공연 중 가장 높은 요금을 확인한다.',\n",
       " \"8. 기관명이 '기관'인 공연의 개수를 계산한다.\",\n",
       " '9. 출연자정보가 NaN인 공연의 개수를 계산한다.',\n",
       " '10. 테마분류가 NaN인 공연의 개수를 계산한다.',\n",
       " '1. 자치구별로 공연/행사 개수를 집계하여 분포를 확인한다.',\n",
       " '2. 공연/행사명의 문자열 길이를 계산하여 평균값, 최대값, 최소값을 확인한다.',\n",
       " '3. 날짜_시간을 기준으로 연도별 공연/행사 개수를 시계열 그래프로 시각화한다.',\n",
       " '4. 이용대상별로 공연/행사 개수를 집계하여 분포를 확인한다.',\n",
       " '5. 이용요금의 결측치를 처리하고, 유료와 무료의 비율을 확인한다.',\n",
       " '6. 공연/행사명에 특정 단어가 포함된 행을 필터링하여 확인한다.',\n",
       " '7. 장소별로 공연/행사 개수를 집계하여 분포를 확인한다.',\n",
       " '8. 시작일과 종료일을 활용하여 공연/행사 기간을 계산하고, 평균값을 확인한다.',\n",
       " '9. 이용대상과 이용요금을 결합하여 성인 대상의 평균 이용요금을 계산한다.',\n",
       " '10. 경도_X좌표와 위도_Y좌표를 이용하여 지도에 공연/행사 위치를 표시한다.',\n",
       " '1. 자치구별로 공연/행사 개최 횟수를 계산',\n",
       " '2. 자치구별로 유료/무료 행사 개최 비율을 계산',\n",
       " '3. 자치구별로 평균 이용료를 계산',\n",
       " '4. 공연/행사 분류별로 개최 횟수를 계산',\n",
       " '5. 요일별로 공연/행사 개최 횟수를 계산',\n",
       " '6. 월별로 공연/행사 개최 횟수를 계산',\n",
       " '7. 공연/행사 장소별로 개최 횟수를 계산',\n",
       " '8. 공연/행사 시작 시간대별로 개최 횟수를 계산',\n",
       " '9. 공연/행사 종료 시간대별로 개최 횟수를 계산',\n",
       " '10. 공연/행사 기관명별로 개최 횟수를 계산',\n",
       " '1. 각 자치구별로 진행된 공연/행사의 개수를 세어본다.',\n",
       " '2. 각 자치구별로 유료와 무료 공연/행사의 비율을 계산한다.',\n",
       " '3. 날짜_시간 열을 기준으로 2024년에 가장 많은 공연/행사가 진행된 날짜를 찾는다.',\n",
       " \"4. 공연/행사명에 '클래식'이 포함된 항목들을 찾아본다.\",\n",
       " \"5. 이용대상이 '누구나'인 공연/행사 중에서 가장 높은 이용요금을 가진 항목을 찾는다.\",\n",
       " '6. 이용요금이 NaN인 항목들을 찾아서 처리한다.',\n",
       " '7. 시작일과 종료일을 활용하여 공연/행사의 기간을 계산한다.',\n",
       " '8. 장소를 기준으로 공연/행사가 진행된 장소의 개수를 세어본다.',\n",
       " '9. 분류별로 공연/행사의 개수를 계산한다.',\n",
       " '10. 공연/행사의 대표이미지를 시각화하여 확인한다.',\n",
       " '1. 자치구별로 공연/행사 개최 횟수를 계산한다.',\n",
       " '2. 날짜_시간 데이터를 기반으로 요일 정보를 추출하여 요일별 공연/행사 개최 횟수를 계산한다.',\n",
       " '3. 이용대상별로 공연/행사 개최 횟수를 계산한다.',\n",
       " '4. 이용요금 정보를 기반으로 무료와 유료 공연/행사 개최 횟수를 계산한다.',\n",
       " '5. 분류별로 공연/행사 개최 횟수를 계산한다.',\n",
       " '6. 장소별로 공연/행사 개최 횟수를 계산한다.',\n",
       " '7. 시작일과 종료일을 기반으로 공연/행사 기간을 계산한다.',\n",
       " '8. 테마분류별로 공연/행사 개최 횟수를 계산한다.',\n",
       " '9. 자치구별로 유무료 공연/행사 개최 횟수를 계산한다.',\n",
       " '10. 기관명별로 공연/행사 개최 횟수를 계산한다.']"
      ]
     },
     "execution_count": 47,
     "metadata": {},
     "output_type": "execute_result"
    }
   ],
   "source": [
    "result.split('\\n')"
   ]
  },
  {
   "cell_type": "code",
   "execution_count": 106,
   "metadata": {},
   "outputs": [],
   "source": [
    "llm = ChatOpenAI(temperature=0.7)\n",
    "prompt = PromptTemplate(\n",
    "input_variables=[\"data_summary\"],\n",
    "template=\"\"\"\\\n",
    "        데이터 요약:\n",
    "        {data_summary}\n",
    "        {data_prompt}\n",
    "        \"\"\"\n",
    "    )\n",
    "chain = LLMChain(llm=llm, prompt=prompt)"
   ]
  },
  {
   "cell_type": "code",
   "execution_count": null,
   "metadata": {},
   "outputs": [
    {
     "data": {
      "text/plain": [
       "'1. 자치구별로 공연/행사 개최 횟수를 계산\\n2. 자치구별로 유료/무료 행사 개최 비율을 계산\\n3. 날짜_시간을 기준으로 연도별 공연/행사 개수를 시계열 그래프로 시각화\\n4. 이용대상별로 공연/행사 개최 횟수를 계산\\n5. 이용요금의 결측치를 처리하고, 유료와 무료의 비율을 확인\\n6. 공연/행사명에 특정 단어가 포함된 행을 필터링하여 확인\\n7. 장소별로 공연/행사 개최 횟수를 계산\\n8. 시작일과 종료일을 활용하여 공연/행사 기간을 계산하고, 평균값을 확인\\n9. 이용대상과 이용요금을 결합하여 성인 대상의 평균 이용요금을 계산\\n10. 경도_X좌표와 위도_Y좌표를 이용하여 지도에 공연/행사 위치를 표시'"
      ]
     },
     "execution_count": 57,
     "metadata": {},
     "output_type": "execute_result"
    }
   ],
   "source": [
    "\n",
    "\n",
    "input_prompt='''위 데이터의 30개의 항목에서 중복을 제거하고, \n",
    "                유사한 항목을 통합한 후 고유한 10개 항목의 분석 작업으로 구성해줘'''\n",
    "myPrompt=result.split('\\n')\n",
    "langchain_response = chain.run(data_summary=myPrompt, data_prompt=input_prompt)\n",
    "langchain_response"
   ]
  },
  {
   "cell_type": "code",
   "execution_count": 58,
   "metadata": {},
   "outputs": [
    {
     "data": {
      "text/plain": [
       "['1. 자치구별로 공연/행사 개최 횟수를 계산',\n",
       " '2. 자치구별로 유료/무료 행사 개최 비율을 계산',\n",
       " '3. 날짜_시간을 기준으로 연도별 공연/행사 개수를 시계열 그래프로 시각화',\n",
       " '4. 이용대상별로 공연/행사 개최 횟수를 계산',\n",
       " '5. 이용요금의 결측치를 처리하고, 유료와 무료의 비율을 확인',\n",
       " '6. 공연/행사명에 특정 단어가 포함된 행을 필터링하여 확인',\n",
       " '7. 장소별로 공연/행사 개최 횟수를 계산',\n",
       " '8. 시작일과 종료일을 활용하여 공연/행사 기간을 계산하고, 평균값을 확인',\n",
       " '9. 이용대상과 이용요금을 결합하여 성인 대상의 평균 이용요금을 계산',\n",
       " '10. 경도_X좌표와 위도_Y좌표를 이용하여 지도에 공연/행사 위치를 표시']"
      ]
     },
     "execution_count": 58,
     "metadata": {},
     "output_type": "execute_result"
    }
   ],
   "source": [
    "result2=langchain_response.split('\\n')\n",
    "result2"
   ]
  },
  {
   "cell_type": "code",
   "execution_count": 60,
   "metadata": {},
   "outputs": [
    {
     "data": {
      "text/plain": [
       "['1. 자치구별로 공연/행사 개최 횟수를 계산: 각 자치구가 문화 및 이벤트 활동에 얼마나 많이 참여하고 있는지를 파악할 수 있음.',\n",
       " '2. 자치구별로 유료/무료 행사 개최 비율을 계산: 각 자치구에서 유료와 무료 행사가 어떻게 분포되어 있는지를 확인할 수 있음.',\n",
       " '3. 날짜_시간을 기준으로 연도별 공연/행사 개수를 시계열 그래프로 시각화: 시간에 따른 공연/행사의 변화 추이를 쉽게 파악할 수 있음.',\n",
       " '4. 이용대상별로 공연/행사 개최 횟수를 계산: 공연/행사를 어떤 대상을 대상으로 진행하는지에 대한 정보를 얻을 수 있음.',\n",
       " '5. 이용요금의 결측치를 처리하고, 유료와 무료의 비율을 확인: 공연/행사의 유료와 무료 비율을 파악하여 참가자들이 지불하는 요금에 대한 인사이트를 얻을 수 있음.',\n",
       " '6. 공연/행사명에 특정 단어가 포함된 행을 필터링하여 확인: 특정 주제나 키워드에 대한 공연/행사가 어떻게 분포되어 있는지를 파악할 수 있음.',\n",
       " '7. 장소별로 공연/행사 개최 횟수를 계산: 어떤 장소가 가장 많은 공연/행사를 개최하는지를 확인할 수 있음.',\n",
       " '8. 시작일과 종료일을 활용하여 공연/행사 기간을 계산하고, 평균값을 확인: 공연/행사의 기간에 대한 통계를 통해 어떤 종류의 이벤트가 얼마나 지속되는지를 파악할 수 있음.',\n",
       " '9. 이용대상과 이용요금을 결합하여 성인 대상의 평균 이용요금을 계산: 성인 대상의 평균 이용요금을 파악하여 해당 대상의 이벤트 참여 성향을 이해할 수 있음.',\n",
       " '10. 경도_X좌표와 위도_Y좌표를 이용하여 지도에 공연/행사 위치를 표시: 공연/행사의 지리적 분포를 시각적으로 확인하여 어떤 지역에서 활발하게 문화활동이 이루어지고 있는지를 파악할 수 있음.']"
      ]
     },
     "execution_count": 60,
     "metadata": {},
     "output_type": "execute_result"
    }
   ],
   "source": [
    "input_prompt='''위 데이터의 각 항목당 얻을수 있는 인사이트에 대해 도출해줘'''\n",
    "myPrompt=result2\n",
    "langchain_response = chain.run(data_summary=myPrompt, data_prompt=input_prompt)\n",
    "langchain_response.split('\\n')"
   ]
  },
  {
   "cell_type": "code",
   "execution_count": 64,
   "metadata": {},
   "outputs": [
    {
     "data": {
      "text/plain": [
       "['1. 자치구별로 공연/행사 개최 횟수를 계산',\n",
       " '   - 인사이트: 어떤 자치구에서 가장 많은 공연/행사가 개최되는지 파악 가능',\n",
       " '   - 혼잡도: 공연/행사가 많이 열리는 자치구는 혼잡도가 높을 수 있음',\n",
       " '',\n",
       " '2. 자치구별로 유료/무료 행사 개최 비율을 계산',\n",
       " '   - 인사이트: 각 자치구에서 어떤 유형의 행사가 주로 열리는지 파악 가능',\n",
       " '   - 혼잡도: 유료 행사가 많은 자치구는 혼잡도가 높을 수 있음',\n",
       " '',\n",
       " '3. 날짜_시간을 기준으로 연도별 공연/행사 개수를 시계열 그래프로 시각화',\n",
       " '   - 인사이트: 연도별로 공연/행사의 추세를 파악 가능',\n",
       " '   - 혼잡도: 특정 연도에 공연/행사가 집중적으로 열릴 경우 해당 시기의 혼잡도가 높을 수 있음',\n",
       " '',\n",
       " '4. 이용대상별로 공연/행사 개최 횟수를 계산',\n",
       " '   - 인사이트: 어떤 이용대상을 대상으로 한 공연/행사가 많이 열리는지 파악 가능',\n",
       " '   - 혼잡도: 특정 이용대상을 대상으로 한 공연/행사가 많을 경우 해당 장소의 혼잡도가 높을 수 있음',\n",
       " '',\n",
       " '5. 이용요금의 결측치를 처리하고, 유료와 무료의 비율을 확인',\n",
       " '   - 인사이트: 공연/행사의 유료와 무료 비율을 파악하여 이용자들의 경제적 특성을 이해 가능',\n",
       " '   - 혼잡도: 유료 행사가 많은 경우 해당 장소의 혼잡도가 높을 수 있음',\n",
       " '',\n",
       " '6. 공연/행사명에 특정 단어가 포함된 행을 필터링하여 확인',\n",
       " '   - 인사이트: 특정 주제나 관심사를 가진 이용자들을 대상으로 한 행사가 어디서 열리는지 파악 가능',\n",
       " '   - 혼잡도: 특정 주제에 관련된 공연/행사가 많으면 해당 장소의 혼잡도가 높을 수 있음',\n",
       " '',\n",
       " '7. 장소별로 공연/행사 개최 횟수를 계산',\n",
       " '   - 인사이트: 어떤 장소에서 공연/행사가 가장 많이 열리는지 파악 가능',\n",
       " '   - 혼잡도: 공연/행사가 많이 열리는 장소는 혼잡도가 높을 수 있음',\n",
       " '',\n",
       " '8. 시작일과 종료일을 활용하여 공연/행사 기간을 계산하고, 평균값을 확인',\n",
       " '   - 인사이트: 공연/행사의 기간을 파악하여 이용자들이 얼마나 오래 머무르는지 알 수 있음',\n",
       " '   - 혼잡도: 공연/행사가 긴 장소는 해당 기간 동안 혼잡도가 높을 수 있음',\n",
       " '',\n",
       " '9. 이용대상과 이용요금을 결합하여 성인 대상의 평균 이용요금을 계산',\n",
       " '   - 인사이트: 성인 대상으로 하는 공연/행사의 평균 이용요금을 파악하여 경제력을 이해할 수 있음',\n",
       " '   - 혼잡도: 고가의 이용요금을 가진 공연/행사가 많을 경우 해당 장소의 혼잡도가 높을 수 있음',\n",
       " '',\n",
       " '10. 경도_X좌표와 위도_Y좌표를 이용하여 지도에 공연/행사 위치를 표시',\n",
       " '    - 인사이트: 공연/행사가 어떤 지역에 집중적으로 열리는지 시각적으로 파악 가능',\n",
       " '    - 혼잡도: 특정 지역에 공연/행사가 집중적으로 열리는 경우 해당 지역의 혼잡도가 높을 수 있음']"
      ]
     },
     "execution_count": 64,
     "metadata": {},
     "output_type": "execute_result"
    }
   ],
   "source": [
    "input_prompt='''위 데이터의 각 항목당 얻을수 있는 인사이트에 대해 혼잡도 분산과 연관하여서 도출해줘'''\n",
    "myPrompt=result2\n",
    "langchain_response = chain.run(data_summary=myPrompt, data_prompt=input_prompt)\n",
    "langchain_response.split('\\n')"
   ]
  },
  {
   "cell_type": "code",
   "execution_count": null,
   "metadata": {},
   "outputs": [],
   "source": []
  },
  {
   "cell_type": "markdown",
   "metadata": {},
   "source": [
    "## Part2. gpt의 질의어로 데이터 분석하기\n",
    "- 판다스 AI로 작업하고자함.\n"
   ]
  },
  {
   "cell_type": "code",
   "execution_count": 99,
   "metadata": {},
   "outputs": [
    {
     "data": {
      "text/plain": [
       "Index(['번호', '분류', '자치구', '공연_행사명', '날짜_시간', '장소', '기관명', '이용대상', '이용요금',\n",
       "       '출연자정보', '프로그램소개', '기타내용', '홈페이지_주소', '대표이미지', '신청일', '시민_기관', '시작일',\n",
       "       '종료일', '테마분류', '경도_X좌표_', '위도_Y좌표_', '유무료', '문화포털상세URL'],\n",
       "      dtype='object')"
      ]
     },
     "execution_count": 99,
     "metadata": {},
     "output_type": "execute_result"
    }
   ],
   "source": [
    "df.columns"
   ]
  },
  {
   "cell_type": "code",
   "execution_count": 69,
   "metadata": {},
   "outputs": [
    {
     "data": {
      "text/plain": [
       "['1. 자치구별로 공연/행사 개최 횟수를 계산',\n",
       " '2. 자치구별로 유료/무료 행사 개최 비율을 계산',\n",
       " '3. 날짜_시간을 기준으로 연도별 공연/행사 개수를 시계열 그래프로 시각화',\n",
       " '4. 이용대상별로 공연/행사 개최 횟수를 계산',\n",
       " '5. 이용요금의 결측치를 처리하고, 유료와 무료의 비율을 확인',\n",
       " '6. 공연/행사명에 특정 단어가 포함된 행을 필터링하여 확인',\n",
       " '7. 장소별로 공연/행사 개최 횟수를 계산',\n",
       " '8. 시작일과 종료일을 활용하여 공연/행사 기간을 계산하고, 평균값을 확인',\n",
       " '9. 이용대상과 이용요금을 결합하여 성인 대상의 평균 이용요금을 계산',\n",
       " '10. 경도_X좌표와 위도_Y좌표를 이용하여 지도에 공연/행사 위치를 표시']"
      ]
     },
     "execution_count": 69,
     "metadata": {},
     "output_type": "execute_result"
    }
   ],
   "source": [
    "result2"
   ]
  },
  {
   "cell_type": "code",
   "execution_count": 112,
   "metadata": {},
   "outputs": [
    {
     "data": {
      "text/plain": [
       "['1. 종로구가 가장 많은 행사를 개최했습니다. 총 1371번의 행사를 개최했습니다.',\n",
       " '2. 이 데이터와 연결할 수 있는 외부 데이터로는 해당 자치구의 인구 통계, 관광객 수, 지역 경제 지표 등이 있을 수 있습니다. 이러한 데이터를 분석하면 행사 개최와 관련된 다양한 요소들을 파악할 수 있을 것입니다.',\n",
       " '3. 아래는 각 자치구별 행사 개최 횟수와 비율을 나타낸 표입니다.',\n",
       " '',\n",
       " '| 자치구 | 행사 개최 횟수 | 비율 |',\n",
       " '|-------|--------------|------|',\n",
       " '| 강남구 | 202          | 7.69%  |',\n",
       " '| 강동구 | 89           | 3.39%  |',\n",
       " '| 강북구 | 254          | 9.68%  |',\n",
       " '| 강서구 | 80           | 3.05%  |',\n",
       " '| 관악구 | 99           | 3.77%  |',\n",
       " '| 광진구 | 165          | 6.29%  |',\n",
       " '| 구로구 | 233          | 8.88%  |',\n",
       " '| 금천구 | 48           | 1.83%  |',\n",
       " '| 노원구 | 231          | 8.79%  |',\n",
       " '| 도봉구 | 88           | 3.35%  |',\n",
       " '| 동대문구 | 213        | 8.11%  |',\n",
       " '| 동작구 | 48           | 1.83%  |',\n",
       " '| 마포구 | 282          | 10.74% |',\n",
       " '| 서대문구 | 40         | 1.52%  |',\n",
       " '| 서초구 | 241          | 9.18%  |',\n",
       " '| 성동구 | 216          | 8.22%  |',\n",
       " '| 성북구 | 157          | 5.98%  |',\n",
       " '| 송파구 | 271          | 10.32% |',\n",
       " '| 양천구 | 78           | 2.97%  |',\n",
       " '| 영등포구 | 96         | 3.66%  |',\n",
       " '| 용산구 | 135          | 5.14%  |',\n",
       " '| 은평구 | 331          | 12.60% |',\n",
       " '| 종로구 | 1371         | 52.23% |',\n",
       " '| 중구 | 471           | 17.95% |',\n",
       " '| 중랑구 | 65           | 2.48%  |',\n",
       " '',\n",
       " '4. 위의 데이터를 통해 종로구와 중구가 행사 개최 횟수에서 다른 자치구들과 큰 차이를 보이고 있음을 알 수 있습니다. 이를 통해 종로구와 중구가 문화행사나 축제 등을 활발하게 개최하는 지역임을 알 수 있습니다. 또한, 행사 개최 횟수가 많은 자치구들이 상대적으로 관광객 유치나 지역 경제 활성화에 긍정적인 역할을 할 수 있을 것으로 예상됩니다. 그러므로 향후 지역 발전을 위해 행사 개최에 대한 정책적인 지원이나 활성화가 필요할 것으로 보입니다.']"
      ]
     },
     "execution_count": 112,
     "metadata": {},
     "output_type": "execute_result"
    }
   ],
   "source": [
    "# 판다스를 활용하여 자치구별 유무료 개최 횟수를 계산\n",
    "grouped_df = df.groupby(['자치구']).size().reset_index(name='개최 횟수')\n",
    "input_prompt='''이 데이터를 분석하여 아래의 질문에 답하세요:\n",
    "1. 어떤 자치구가 가장 많은 행사를 개최했나요?\n",
    "2. 이데이터와 연결해야 하는 외부데이터는 어떤 자료가 있을까요?\n",
    "3.  비율을 계산하여 자치구별로 개최횟수와 비율을 표시해줘\n",
    "4. 결과를 통해 얻을수 있는 인사이트를 최대한 자세하고 다양하게 '''\n",
    "\n",
    "myPrompt=grouped_df\n",
    "langchain_response = chain.run(data_summary=myPrompt, data_prompt=input_prompt)\n",
    "langchain_response.split('\\n')"
   ]
  },
  {
   "cell_type": "code",
   "execution_count": 113,
   "metadata": {},
   "outputs": [
    {
     "data": {
      "text/plain": [
       "['1. 종로구가 가장 많은 무료 행사를 개최했습니다. 종로구는 총 734번의 무료 행사를 개최했습니다.',\n",
       " '',\n",
       " '2. 유료 행사가 가장 많은 자치구는 강북구입니다. 강북구는 총 145번의 유료 행사를 개최했습니다.',\n",
       " '',\n",
       " '3. 무료와 유료 행사의 비율을 계산하여 자치구별로 요약한 데이터프레임은 아래와 같습니다:',\n",
       " '',\n",
       " '| 자치구  | 무료 행사 횟수 | 유료 행사 횟수 | 무료/유료 비율 |',\n",
       " '|--------|--------------|--------------|--------------|',\n",
       " '| 강남구 | 127          | 75           | 1.69         |',\n",
       " '| 강동구 | 23           | 66           | 0.35         |',\n",
       " '| 강북구 | 109          | 145          | 0.75         |',\n",
       " '| 강서구 | 35           | 45           | 0.78         |',\n",
       " '| 관악구 | 73           | 26           | 2.81         |',\n",
       " '| 광진구 | 81           | 84           | 0.96         |',\n",
       " '| 구로구 | 111          | 122          | 0.91         |',\n",
       " '| 금천구 | 36           | 12           | 3.00         |',\n",
       " '| 노원구 | 181          | 50           | 3.62         |',\n",
       " '| 도봉구 | 80           | 8            | 10.00        |',\n",
       " '| 동대문구 | 168         | 45           | 3.73         |',\n",
       " '| 동작구 | 47           | 1            | 47.00        |',\n",
       " '| 마포구 | 179          | 103          | 1.74         |',\n",
       " '| 서대문구 | 32          | 8            | 4.00         |',\n",
       " '| 서초구 | 113          | 128          | 0.88         |',\n",
       " '| 성동구 | 159          | 57           | 2.79         |',\n",
       " '| 성북구 | 108          | 49           | 2.20         |',\n",
       " '| 송파구 | 225          | 46           | 4.89         |',\n",
       " '| 양천구 | 61           | 17           | 3.59         |',\n",
       " '| 영등포구 | 65         | 31           | 2.10         |',\n",
       " '| 용산구 | 119          | 16           | 7.44         |',\n",
       " '| 은평구 | 303          | 28           | 10.82        |',\n",
       " '| 종로구 | 734          | 637          | 1.15         |',\n",
       " '| 중구 | 361           | 110          | 3.28         |',\n",
       " '| 중랑구 | 40           | 25           | 1.60         |',\n",
       " '',\n",
       " '4. 위의 데이터를 통해, 각 자치구의 무료와 유료 행사 개최 비율을 확인할 수 있습니다. 도봉구와 은평구가 무료 행사를 많이 개최한 반면, 동작구는 유료 행사를 거의 개최하지 않았습니다. 이러한 데이터를 통해 각 자치구의 문화/이벤트 활동에 대한 특징을 파악할 수 있고, 향후 이벤트 기획이나 자치구별 예산 배분에 참고할 수 있습니다. 또한 무료 행사를 많이 개최하는 자치구는 주민들에게 문화 활동을 제공하는데 더 많은 노력을 기울일 필요가 있을 것으로 보입니다.']"
      ]
     },
     "execution_count": 113,
     "metadata": {},
     "output_type": "execute_result"
    }
   ],
   "source": [
    "# 판다스를 활용하여 자치구별 유무료 개최 횟수를 계산\n",
    "grouped_df = df.groupby(['자치구', '유무료']).size().reset_index(name='개최 횟수')\n",
    "\n",
    "input_prompt='''이 데이터를 분석하여 아래의 질문에 답하세요:\n",
    "1. 어떤 자치구가 가장 많은 무료 행사를 개최했나요?\n",
    "2. 유료 행사가 가장 많은 자치구는 어디인가요?\n",
    "3. 무료와 유료 행사의 비율을 계산하여 자치구별로 요약해서 데이터프레임으로 표시\n",
    "4. 결과를 통해 얻을수 있는 인사이트를 최대한 자세하고 다양하게 '''\n",
    "myPrompt=grouped_df\n",
    "langchain_response = chain.run(data_summary=myPrompt, data_prompt=input_prompt)\n",
    "langchain_response.split('\\n')"
   ]
  },
  {
   "cell_type": "code",
   "execution_count": null,
   "metadata": {},
   "outputs": [
    {
     "name": "stdout",
     "output_type": "stream",
     "text": [
      "Note: you may need to restart the kernel to use updated packages.\n"
     ]
    },
    {
     "data": {
      "text/plain": [
       "<pandasai.smart_dataframe.SmartDataframe at 0x184d89f3e80>"
      ]
     },
     "execution_count": 116,
     "metadata": {},
     "output_type": "execute_result"
    }
   ],
   "source": [
    "#####################################\n",
    "# pandas_gpt를 이용한 작업\n",
    "# https://normalstory.tistory.com/entry/Pandas-AI-%ED%8C%90%EB%8B%A4%EC%8A%A4AI-with-LLM-Agent-OpenAI-MySQL\n",
    "\n",
    "%pip install -q pandasai\n",
    "from pandasai import SmartDataframe\n",
    "from pandasai.llm import OpenAI\n",
    "\n",
    "df_Ai = SmartDataframe(df, config={\"llm\": llm})\n",
    "df_Ai"
   ]
  },
  {
   "cell_type": "code",
   "execution_count": 124,
   "metadata": {},
   "outputs": [
    {
     "data": {
      "text/plain": [
       "['1. 자치구별로 공연/행사 개최 횟수를 계산',\n",
       " '2. 자치구별로 유료/무료 행사 개최 비율을 계산',\n",
       " '3. 날짜_시간을 기준으로 연도별 공연/행사 개수를 시계열 그래프로 시각화',\n",
       " '4. 이용대상별로 공연/행사 개최 횟수를 계산',\n",
       " '5. 이용요금의 결측치를 처리하고, 유료와 무료의 비율을 확인',\n",
       " '6. 공연/행사명에 특정 단어가 포함된 행을 필터링하여 확인',\n",
       " '7. 장소별로 공연/행사 개최 횟수를 계산',\n",
       " '8. 시작일과 종료일을 활용하여 공연/행사 기간을 계산하고, 평균값을 확인',\n",
       " '9. 이용대상과 이용요금을 결합하여 성인 대상의 평균 이용요금을 계산',\n",
       " '10. 경도_X좌표와 위도_Y좌표를 이용하여 지도에 공연/행사 위치를 표시']"
      ]
     },
     "execution_count": 124,
     "metadata": {},
     "output_type": "execute_result"
    }
   ],
   "source": [
    "result2"
   ]
  },
  {
   "cell_type": "code",
   "execution_count": null,
   "metadata": {},
   "outputs": [
    {
     "name": "stdout",
     "output_type": "stream",
     "text": [
      "\n",
      "--> 4. 이용대상별로 공연/행사 개최 횟수를 계산\n"
     ]
    },
    {
     "data": {
      "text/html": [
       "<div>\n",
       "<style scoped>\n",
       "    .dataframe tbody tr th:only-of-type {\n",
       "        vertical-align: middle;\n",
       "    }\n",
       "\n",
       "    .dataframe tbody tr th {\n",
       "        vertical-align: top;\n",
       "    }\n",
       "\n",
       "    .dataframe thead th {\n",
       "        text-align: right;\n",
       "    }\n",
       "</style>\n",
       "<table border=\"1\" class=\"dataframe\">\n",
       "  <thead>\n",
       "    <tr style=\"text-align: right;\">\n",
       "      <th></th>\n",
       "      <th>이용대상</th>\n",
       "      <th>이벤트 개최 횟수</th>\n",
       "    </tr>\n",
       "  </thead>\n",
       "  <tbody>\n",
       "    <tr>\n",
       "      <th>0</th>\n",
       "      <td>누구나</td>\n",
       "      <td>1152</td>\n",
       "    </tr>\n",
       "    <tr>\n",
       "      <th>1</th>\n",
       "      <td>전체관람가</td>\n",
       "      <td>287</td>\n",
       "    </tr>\n",
       "    <tr>\n",
       "      <th>2</th>\n",
       "      <td>시민 누구나</td>\n",
       "      <td>280</td>\n",
       "    </tr>\n",
       "    <tr>\n",
       "      <th>3</th>\n",
       "      <td>성인</td>\n",
       "      <td>183</td>\n",
       "    </tr>\n",
       "    <tr>\n",
       "      <th>4</th>\n",
       "      <td>초등학생 이상</td>\n",
       "      <td>109</td>\n",
       "    </tr>\n",
       "    <tr>\n",
       "      <th>...</th>\n",
       "      <td>...</td>\n",
       "      <td>...</td>\n",
       "    </tr>\n",
       "    <tr>\n",
       "      <th>1696</th>\n",
       "      <td>7세 이상 관람가능(2017년생)</td>\n",
       "      <td>1</td>\n",
       "    </tr>\n",
       "    <tr>\n",
       "      <th>1697</th>\n",
       "      <td>4세 이상 관람가</td>\n",
       "      <td>1</td>\n",
       "    </tr>\n",
       "    <tr>\n",
       "      <th>1698</th>\n",
       "      <td>상권 이용 고객이라면 누구나</td>\n",
       "      <td>1</td>\n",
       "    </tr>\n",
       "    <tr>\n",
       "      <th>1699</th>\n",
       "      <td>구직을 희망하는 여성 누구나</td>\n",
       "      <td>1</td>\n",
       "    </tr>\n",
       "    <tr>\n",
       "      <th>1700</th>\n",
       "      <td>8세이상관람가[미취학아동입장불가]</td>\n",
       "      <td>1</td>\n",
       "    </tr>\n",
       "  </tbody>\n",
       "</table>\n",
       "<p>1701 rows × 2 columns</p>\n",
       "</div>"
      ],
      "text/plain": [
       "                    이용대상  이벤트 개최 횟수\n",
       "0                    누구나       1152\n",
       "1                  전체관람가        287\n",
       "2                 시민 누구나        280\n",
       "3                     성인        183\n",
       "4                초등학생 이상        109\n",
       "...                  ...        ...\n",
       "1696  7세 이상 관람가능(2017년생)          1\n",
       "1697           4세 이상 관람가          1\n",
       "1698     상권 이용 고객이라면 누구나          1\n",
       "1699     구직을 희망하는 여성 누구나          1\n",
       "1700  8세이상관람가[미취학아동입장불가]          1\n",
       "\n",
       "[1701 rows x 2 columns]"
      ]
     },
     "execution_count": 141,
     "metadata": {},
     "output_type": "execute_result"
    }
   ],
   "source": [
    "# 에러나오면 다시 실행해봄\n",
    "###############################3\n",
    "## 판다스_gpt\n",
    "# https://calmmimiforest.tistory.com/125\n",
    "pandasMsg=result2[3]  # 0번부터 시작함으로 원하는 질문에서 번호-1\n",
    "print('\\n-->',pandasMsg)\n",
    "tmp=df_Ai.chat(pandasMsg)\n",
    "tmp"
   ]
  },
  {
   "cell_type": "code",
   "execution_count": null,
   "metadata": {},
   "outputs": [
    {
     "data": {
      "text/plain": [
       "['1. 이벤트 개최 횟수가 가장 많은 이용대상은 누구인가?',\n",
       " '- 이벤트 개최 횟수가 가장 많은 이용대상은 \"누구나\"이다. 이용대상이 가장 넓은 범위를 가지고 있기 때문에 이벤트에 참여하는 사람들이 많을 것으로 추정할 수 있다.',\n",
       " '',\n",
       " '2. 이벤트 개최 횟수가 가장 적은 이용대상은 무엇인가?',\n",
       " '- 이벤트 개최 횟수가 가장 적은 이용대상은 \"8세이상관람가[미취학아동입장불가]\"이다. 이용 대상이나 제한 사항이 있는 경우에는 참여자 수가 적을 수 있다.',\n",
       " '',\n",
       " '3. 이용대상별 이벤트 개최 횟수의 분포는 어떠한가?',\n",
       " '- 대부분의 이용대상이 100회 이하의 이벤트를 개최했으며, 상위 소수의 이용대상이 100회 이상의 이벤트를 개최한 것으로 나타난다. 이용대상에 따라 이벤트 개최 횟수가 크게 다를 수 있다.',\n",
       " '',\n",
       " '4. 특정 연령대가 많이 참여하는 이벤트는 무엇인가?',\n",
       " '- 초등학생 이상이라는 이용대상이 109회의 이벤트를 개최한 것으로 나타난다. 이용대상별로 이벤트 참여자 수가 다를 수 있기 때문에 특정 연령대가 많이 참여하는 이벤트가 있을 수 있다.',\n",
       " '',\n",
       " '5. 성인을 대상으로 하는 이벤트가 다른 이용대상을 대상으로 하는 이벤트보다 어떤 특징을 가지고 있는가?',\n",
       " '- 성인을 대상으로 하는 이벤트의 개최 횟수가 183회로 비교적 많은 편이다. 성인을 대상으로 하는 이벤트는 다른 연령대나 대상을 대상으로 하는 이벤트보다 참여자가 많을 가능성이 있으며, 성인들에게 인기 있는 이벤트가 많이 개최되었을 수도 있다.']"
      ]
     },
     "execution_count": 142,
     "metadata": {},
     "output_type": "execute_result"
    }
   ],
   "source": [
    "##########################\n",
    "## 일반 gpt(랭체인) 연결\n",
    "###########################\n",
    "input_prompt='''이 데이터를 분석하여 아래의 질문에 답하세요:\n",
    " 결과를 통해 얻을수 있는 인사이트를 최대한 자세하고 다양하게 '''\n",
    "myPrompt=tmp\n",
    "\n",
    "langchain_response = chain.run(data_summary=myPrompt, data_prompt=input_prompt)\n",
    "langchain_response.split('\\n')"
   ]
  },
  {
   "cell_type": "code",
   "execution_count": 159,
   "metadata": {},
   "outputs": [
    {
     "name": "stdout",
     "output_type": "stream",
     "text": [
      "\n",
      "--> 4. 이용대상별로 공연/행사 개최 횟수를 계산결과에 대한 가로 막대그래프를 그려줘, 건수가 10건이상인 자료만\n"
     ]
    },
    {
     "data": {
      "text/plain": [
       "['분석해보겠습니다. 먼저, 이용대상별로 공연/행사 개최 횟수를 계산하여 가로 막대그래프를 그려보겠습니다. 분석 결과 건수가 10건 이상인 자료만을 고려하여 분석을 진행하겠습니다.',\n",
       " '',\n",
       " '분석 결과를 통해 얻을 수 있는 인사이트는 다음과 같습니다:',\n",
       " '',\n",
       " '1. 인사이트 1: 가장 많은 공연/행사가 개최된 이용대상은 무엇인가?',\n",
       " '   - 가로 막대그래프를 통해 가장 많은 공연/행사가 개최된 이용대상을 확인할 수 있습니다. 이를 통해 어떤 이용대상이 가장 많은 관심을 받았는지 파악할 수 있습니다.',\n",
       " '',\n",
       " '2. 인사이트 2: 건수가 10건 이상인 자료들 간의 비교 분석 결과는 무엇인가?',\n",
       " '   - 건수가 10건 이상인 자료들을 비교하여 어떤 이용대상이 가장 활발하게 공연/행사를 개최했는지, 그 이유는 무엇인지 등을 분석할 수 있습니다.',\n",
       " '',\n",
       " '3. 인사이트 3: 이용대상별로 공연/행사 개최 횟수의 추이는 어떤 모습인가?',\n",
       " '   - 과거부터 현재까지 이용대상별 공연/행사 개최 횟수의 추이를 분석하여 특정 이용대상의 활동이 증가하거나 감소하는 추세를 발견할 수 있습니다.',\n",
       " '',\n",
       " '4. 인사이트 4: 공연/행사 개최 횟수와 관련된 다른 변수들과의 상관관계는 무엇인가?',\n",
       " '   - 공연/행사 개최 횟수와 관련된 다른 변수들(예: 날씨, 계절, 지역 등)과의 상관관계를 분석하여 공연/행사가 활발히 이루어지는 요인을 발견할 수 있습니다.',\n",
       " '',\n",
       " '이와 같이 다양한 인사이트를 분석하여 공연/행사 개최에 대한 효율적인 전략을 수립할 수 있을 것입니다.']"
      ]
     },
     "execution_count": 159,
     "metadata": {},
     "output_type": "execute_result"
    },
    {
     "data": {
      "text/plain": [
       "<Figure size 1000x2000 with 0 Axes>"
      ]
     },
     "metadata": {},
     "output_type": "display_data"
    },
    {
     "data": {
      "image/png": "[encoded data removed]",
      "text/plain": [
       "<Figure size 1200x600 with 1 Axes>"
      ]
     },
     "metadata": {},
     "output_type": "display_data"
    }
   ],
   "source": [
    "##########\n",
    "###  판다스_gpt\n",
    "# https://calmmimiforest.tistory.com/125\n",
    "plt.figure(figsize=(10,20))\n",
    "pandasMsg=result2[3] +'결과에 대한 가로 막대그래프를 그려줘, 건수가 10건이상인 자료만'\n",
    "print('\\n-->',pandasMsg)\n",
    "tmp=df_Ai.chat(pandasMsg)\n",
    "tmp\n",
    "\n",
    "##########################\n",
    "## 일반 gpt(랭체인) 연결\n",
    "###########################\n",
    "input_prompt=f'''{pandasMsg}의 결과를 분석하고, 이 자료를 통해 얻을수 있는 인사이트를 최대한 자세하고 다양하게 '''\n",
    "myPrompt=tmp\n",
    "\n",
    "langchain_response = chain.run(data_summary=myPrompt, data_prompt=input_prompt)\n",
    "langchain_response.split('\\n')"
   ]
  }
 ],
 "metadata": {
  "kernelspec": {
   "display_name": "tf",
   "language": "python",
   "name": "python3"
  },
  "language_info": {
   "codemirror_mode": {
    "name": "ipython",
    "version": 3
   },
   "file_extension": ".py",
   "mimetype": "text/x-python",
   "name": "python",
   "nbconvert_exporter": "python",
   "pygments_lexer": "ipython3",
   "version": "3.10.15"
  }
 },
 "nbformat": 4,
 "nbformat_minor": 2
}
